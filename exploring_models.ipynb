{
 "cells": [
  {
   "cell_type": "code",
   "execution_count": 5,
   "metadata": {},
   "outputs": [],
   "source": [
    "from model4 import UNETv10_5, UNETv10_5_2\n",
    "from model7 import UNETv13\n",
    "import torch\n",
    "from torchinfo import summary\n"
   ]
  },
  {
   "cell_type": "code",
   "execution_count": 6,
   "metadata": {},
   "outputs": [],
   "source": [
    "device = torch.device(\"cuda:0\" if torch.cuda.is_available() else torch.device('cpu'))\n",
    "\n",
    "\n",
    "nn_model = UNETv10_5(emb_dim=64*4, improved=True).to(device)\n",
    "with open('summary1.txt','wb') as f:\n",
    "    f.write(str(summary(nn_model, [(1, 2, 128, 800), (1, 1, 128, 800), (1,)], depth=4)).encode())\n"
   ]
  },
  {
   "cell_type": "code",
   "execution_count": 7,
   "metadata": {},
   "outputs": [],
   "source": [
    "nn_model = UNETv13(residual=False, attention_res=[], group_norm=False).to(device)\n",
    "with open('summary2.txt','wb') as f:\n",
    "    f.write(str(summary(nn_model, [(1, 2, 128, 800), (1, 1, 128, 800), (1,)], depth=4)).encode())\n"
   ]
  },
  {
   "cell_type": "code",
   "execution_count": 8,
   "metadata": {},
   "outputs": [],
   "source": [
    "nn_model = UNETv10_5_2().to(device)\n",
    "with open('summary3.txt','wb') as f:\n",
    "    f.write(str(summary(nn_model, [(1, 2, 128, 800), (1, 1, 128, 800), (1,)], depth=4)).encode())\n"
   ]
  }
 ],
 "metadata": {
  "kernelspec": {
   "display_name": "Python 3",
   "language": "python",
   "name": "python3"
  },
  "language_info": {
   "codemirror_mode": {
    "name": "ipython",
    "version": 3
   },
   "file_extension": ".py",
   "mimetype": "text/x-python",
   "name": "python",
   "nbconvert_exporter": "python",
   "pygments_lexer": "ipython3",
   "version": "3.11.7"
  }
 },
 "nbformat": 4,
 "nbformat_minor": 2
}
