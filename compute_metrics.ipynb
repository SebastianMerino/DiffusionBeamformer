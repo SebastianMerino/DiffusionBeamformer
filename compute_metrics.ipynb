{
 "cells": [
  {
   "cell_type": "code",
   "execution_count": 1,
   "id": "a7351df0ee1201c8",
   "metadata": {
    "ExecuteTime": {
     "end_time": "2024-01-08T21:16:36.588657Z",
     "start_time": "2024-01-08T21:16:36.502619700Z"
    },
    "collapsed": false
   },
   "outputs": [],
   "source": [
    "import numpy as np\n",
    "import h5py\n",
    "import os\n",
    "from scipy.signal import hilbert\n",
    "\n",
    "\n",
    "class PlaneWaveData:\n",
    "    def __init__(self):\n",
    "        \"\"\"Dummy init. Do not USE\"\"\"\n",
    "        raise NotImplementedError\n",
    "        nangles, nchans, nsamps = 2, 3, 4\n",
    "        # Initialize the parameters that *must* be populated by child classes.\n",
    "        self.idata = np.zeros((nangles, nchans, nsamps), dtype=\"float32\")\n",
    "        self.qdata = np.zeros((nangles, nchans, nsamps), dtype=\"float32\")\n",
    "        self.angles = np.zeros((nangles,), dtype=\"float32\")\n",
    "        self.ele_pos = np.zeros((nchans, 3), dtype=\"float32\")\n",
    "        self.fc = 5e6\n",
    "        self.fs = 20e6\n",
    "        self.fdemod = 0\n",
    "        self.c = 1540\n",
    "        self.time_zero = np.zeros((nangles,), dtype=\"float32\")\n",
    "\n",
    "    def validate(self):\n",
    "        \"\"\" Check to make sure that all information is loaded and valid. \"\"\"\n",
    "        # Check size of idata, qdata, angles, ele_pos\n",
    "        assert self.idata.shape == self.qdata.shape\n",
    "        assert self.idata.ndim == self.qdata.ndim == 3\n",
    "        nangles, nchans, nsamps = self.idata.shape\n",
    "        assert self.angles.ndim == 1 and self.angles.size == nangles\n",
    "        assert self.ele_pos.ndim == 2 and self.ele_pos.shape == (nchans, 3)\n",
    "        # Check frequencies (expecting more than 0.1 MHz)\n",
    "        assert self.fc > 1e5\n",
    "        assert self.fs > 1e5\n",
    "        assert self.fdemod > 1e5 or self.fdemod == 0\n",
    "        # Check speed of sound (should be between 1000-2000 for medical imaging)\n",
    "        assert 1000 <= self.c <= 2000\n",
    "        # Check that a separate time zero is provided for each transmit\n",
    "        assert self.time_zero.ndim == 1 and self.time_zero.size == nangles\n",
    "        # print(\"Dataset successfully loaded\")"
   ]
  },
  {
   "cell_type": "code",
   "execution_count": 2,
   "id": "7fe9ecc103ebf7b0",
   "metadata": {
    "ExecuteTime": {
     "end_time": "2024-01-08T21:16:36.603655500Z",
     "start_time": "2024-01-08T21:16:36.593655500Z"
    },
    "collapsed": false
   },
   "outputs": [],
   "source": [
    "class LoadDataParams(PlaneWaveData):\n",
    "    def __init__(self, h5_dir, simu_name):\n",
    "        simu_number = int(simu_name[4:])\n",
    "        lim_inf = 1000*((simu_number-1)//1000) + 1\n",
    "        lim_sup = lim_inf + 999\n",
    "        h5_name = 'simus_%.5d-%.5d.h5' % (lim_inf, lim_sup)\n",
    "        h5filename = os.path.join(h5_dir, h5_name)\n",
    "        \n",
    "        with h5py.File(h5filename, \"r\") as g:\n",
    "            f = g[simu_name]\n",
    "            self.idata = np.expand_dims(np.array(f[\"signal\"], dtype=\"float32\"), 0)\n",
    "            self.qdata = np.imag(hilbert(self.idata, axis=-1))\n",
    "            self.angles = np.array([0])\n",
    "            self.fc = np.array(f['fc']).item()\n",
    "            self.fs = np.array(f['fs']).item()\n",
    "            self.c = np.array(f['c']).item()\n",
    "            self.time_zero = np.array([np.array(f['time_zero']).item()])\n",
    "            self.fdemod = 0\n",
    "            xs = np.squeeze(np.array(f['ele_pos']))\n",
    "            self.grid_xlims = [xs[0], xs[-1]]\n",
    "            self.grid_zlims = [30*1e-3, 80*1e-3]\n",
    "            self.ele_pos = np.array([xs, np.zeros_like(xs), np.zeros_like(xs)]).T\n",
    "            self.pos_lat = np.array(f['lat_pos']).item()\n",
    "            self.pos_ax = np.array(f['ax_pos']).item()\n",
    "            self.radius = np.array(f['r']).item()\n",
    "        super().validate()"
   ]
  },
  {
   "cell_type": "code",
   "execution_count": 3,
   "id": "2181074a90c7234b",
   "metadata": {
    "ExecuteTime": {
     "end_time": "2024-01-08T21:16:36.635663300Z",
     "start_time": "2024-01-08T21:16:36.605656700Z"
    },
    "collapsed": false
   },
   "outputs": [
    {
     "data": {
      "text/plain": [
       "[-0.019049999999999997, 0.019050000000000032]"
      ]
     },
     "execution_count": 3,
     "metadata": {},
     "output_type": "execute_result"
    }
   ],
   "source": [
    "h5_dir = 'E:/Itamar_LIM/datasets/simulatedCystDataset/raw_0.0Att'\n",
    "P = LoadDataParams(h5_dir=h5_dir, simu_name='simu00014')\n",
    "P.grid_zlims\n",
    "P.grid_xlims"
   ]
  },
  {
   "cell_type": "code",
   "execution_count": 4,
   "id": "34efae7915e34d61",
   "metadata": {
    "ExecuteTime": {
     "end_time": "2024-01-08T21:16:36.676844500Z",
     "start_time": "2024-01-08T21:16:36.636666200Z"
    },
    "collapsed": false
   },
   "outputs": [],
   "source": [
    "def make_pixel_grid_from_pos(x_pos, z_pos):\n",
    "    zz, xx = np.meshgrid(z_pos, x_pos, indexing=\"ij\") # 'ij' -> rows: z, columns: x\n",
    "    yy = xx * 0\n",
    "    grid = np.stack((xx, yy, zz), axis=-1)  # [nrows, ncols, 3]\n",
    "    return grid"
   ]
  },
  {
   "cell_type": "code",
   "execution_count": 5,
   "id": "e08585dce0aa0c90",
   "metadata": {
    "ExecuteTime": {
     "end_time": "2024-01-08T21:16:36.682853500Z",
     "start_time": "2024-01-08T21:16:36.648736100Z"
    },
    "collapsed": false
   },
   "outputs": [],
   "source": [
    "depths = np.linspace(P.grid_zlims[0], P.grid_xlims[1], num=800)\n",
    "laterals = np.linspace(P.grid_xlims[0], P.grid_xlims[1], num=128)\n",
    "grid = make_pixel_grid_from_pos(x_pos=laterals, z_pos=depths)\n"
   ]
  },
  {
   "cell_type": "code",
   "execution_count": 6,
   "id": "d48ce7fdc3f4cb",
   "metadata": {
    "ExecuteTime": {
     "end_time": "2024-01-08T21:16:36.683854400Z",
     "start_time": "2024-01-08T21:16:36.666835100Z"
    },
    "collapsed": false
   },
   "outputs": [],
   "source": [
    "def contrast(img1, img2):\n",
    "    return 20 * np.log10(img1.mean() / img2.mean())\n",
    "\n",
    "# Compute contrast-to-noise ratio\n",
    "def cnr(img1, img2):\n",
    "    return (img1.mean() - img2.mean()) / np.sqrt(img1.var() + img2.var())\n",
    "\n",
    "# Compute the generalized contrast-to-noise ratio\n",
    "def gcnr(img1, img2):\n",
    "    _, bins = np.histogram(np.concatenate((img1, img2)), bins=256)\n",
    "    f, _ = np.histogram(img1, bins=bins, density=True)\n",
    "    g, _ = np.histogram(img2, bins=bins, density=True)\n",
    "    f /= f.sum()\n",
    "    g /= g.sum()\n",
    "    return 1 - np.sum(np.minimum(f, g))\n",
    "\n",
    "def snr(img):\n",
    "    return img.mean() / img.std()"
   ]
  },
  {
   "cell_type": "code",
   "execution_count": 7,
   "id": "87deeab28baadd65",
   "metadata": {
    "ExecuteTime": {
     "end_time": "2024-01-08T21:16:36.693853200Z",
     "start_time": "2024-01-08T21:16:36.680853800Z"
    },
    "collapsed": false
   },
   "outputs": [],
   "source": [
    "# Metricas: Contraste, gcnr, SNR\n",
    "def compute_metrics(P, bmode_output, grid):\n",
    "    env_output = 10 ** (bmode_output / 20)\n",
    "    \n",
    "    xctr = P.pos_lat\n",
    "    zctr = P.pos_ax\n",
    "    r = P.radius    \n",
    "    \n",
    "    r0 = r - 1 / 1000\n",
    "    r1 = r + 1 / 1000\n",
    "    r2 = np.sqrt(r0 ** 2 + r1 ** 2)\n",
    "    \n",
    "    \n",
    "    dist = np.sqrt((grid[:, :, 0] - xctr) ** 2 + (grid[:, :, 2] - zctr) ** 2)\n",
    "    \n",
    "    \n",
    "    roi_i = dist <= r0\n",
    "    roi_o = (r1 <= dist) * (dist <= r2)\n",
    "\n",
    "    # Compute metrics\n",
    "    env_inner = env_output[roi_i]\n",
    "    env_outer = env_output[roi_o]\n",
    "\n",
    "    contrast_value = contrast(env_inner, env_outer)\n",
    "    snr_value = snr(env_outer)\n",
    "    gcnr_value = gcnr(env_inner, env_outer)\n",
    "    cnr_value = cnr(env_inner, env_outer)\n",
    "\n",
    "\n",
    "    return contrast_value, cnr_value, gcnr_value, snr_value"
   ]
  },
  {
   "cell_type": "code",
   "execution_count": 8,
   "id": "8ffeba654c0c92cd",
   "metadata": {
    "ExecuteTime": {
     "end_time": "2024-01-08T21:16:36.725854600Z",
     "start_time": "2024-01-08T21:16:36.696853300Z"
    },
    "collapsed": false
   },
   "outputs": [],
   "source": [
    "# contrast_list = []\n",
    "# for simu name\n",
    "#     \n",
    "#     P = getdata(simuname)\n",
    "#     x,z,r = get_params(P)\n",
    "#     \n",
    "#     contrast, cnr, snr, gcnr = compute metrics(x,z,r, bmode)\n",
    "#     \n",
    "#     constrast_list.append(contrast)\n",
    "#     \n",
    "# df = pd.dataframe(\"x,z,c,r, contrast\", columns=[constrast_list])"
   ]
  },
  {
   "cell_type": "code",
   "execution_count": 9,
   "id": "2825af34e3565d56",
   "metadata": {
    "ExecuteTime": {
     "end_time": "2024-01-08T21:16:36.725854600Z",
     "start_time": "2024-01-08T21:16:36.714853100Z"
    },
    "collapsed": false
   },
   "outputs": [],
   "source": [
    "# import seaborn as sns"
   ]
  },
  {
   "cell_type": "code",
   "execution_count": 10,
   "id": "4fb29e2e1a0bef71",
   "metadata": {
    "ExecuteTime": {
     "end_time": "2024-01-08T21:16:36.739859900Z",
     "start_time": "2024-01-08T21:16:36.724852700Z"
    },
    "collapsed": false
   },
   "outputs": [],
   "source": [
    "# sns.barplot(df=df, x='r', y='contrast')"
   ]
  },
  {
   "cell_type": "code",
   "execution_count": 10,
   "id": "9dcb45f767ee34b2",
   "metadata": {
    "ExecuteTime": {
     "end_time": "2024-01-08T21:16:36.762588600Z",
     "start_time": "2024-01-08T21:16:36.738859900Z"
    },
    "collapsed": false
   },
   "outputs": [],
   "source": []
  },
  {
   "cell_type": "code",
   "execution_count": 10,
   "id": "2d4c17d1a1656791",
   "metadata": {
    "ExecuteTime": {
     "end_time": "2024-01-08T21:16:36.769587Z",
     "start_time": "2024-01-08T21:16:36.753588100Z"
    },
    "collapsed": false
   },
   "outputs": [],
   "source": []
  },
  {
   "cell_type": "code",
   "execution_count": 11,
   "id": "3211321b931107e",
   "metadata": {
    "ExecuteTime": {
     "end_time": "2024-01-08T21:16:36.783623900Z",
     "start_time": "2024-01-08T21:16:36.771587800Z"
    },
    "collapsed": false
   },
   "outputs": [],
   "source": [
    "def delay_plane(grid, angles):\n",
    "    # Use broadcasting to simplify computations\n",
    "    x = grid[:, 0].unsqueeze(0)\n",
    "    z = grid[:, 2].unsqueeze(0)\n",
    "    # For each element, compute distance to pixels\n",
    "    dist = x * torch.sin(angles) + z * torch.cos(angles)\n",
    "    # Output has shape [nangles, npixels]\n",
    "    return dist\n",
    "\n",
    "\n",
    "def delay_focus(grid, ele_pos):\n",
    "    # Compute distance to user-defined pixels from elements\n",
    "    # Expects all inputs to be torch tensors specified in SI units.\n",
    "    # grid    Pixel positions in x,y,z    [npixels, 3]\n",
    "    # ele_pos Element positions in x,y,z  [nelems, 3]\n",
    "    # Get norm of distance vector between elements and pixels via broadcasting\n",
    "    dist = torch.norm(grid - ele_pos.unsqueeze(0), dim=-1)\n",
    "    # Output has shape [nelems, npixels]\n",
    "    return dist\n",
    "\n",
    "\n",
    "## Simple phase rotation of I and Q component by complex angle theta\n",
    "def complex_rotate(I, Q, theta):\n",
    "    Ir = I * torch.cos(theta) - Q * torch.sin(theta)\n",
    "    Qr = Q * torch.cos(theta) + I * torch.sin(theta)\n",
    "    return Ir, Qr\n",
    "\n"
   ]
  },
  {
   "cell_type": "code",
   "execution_count": 12,
   "id": "1859b9c034bd09c0",
   "metadata": {
    "ExecuteTime": {
     "end_time": "2024-01-08T21:16:37.341701500Z",
     "start_time": "2024-01-08T21:16:36.783623900Z"
    },
    "collapsed": false
   },
   "outputs": [],
   "source": [
    "import torch\n",
    "from torch.nn.functional import grid_sample\n",
    "PI = 3.14159265359\n",
    "\n",
    "\n",
    "class DAS_PW(torch.nn.Module):\n",
    "\n",
    "    def __init__(\n",
    "        self,\n",
    "        P,\n",
    "        grid,\n",
    "        ang_list=None,\n",
    "        ele_list=None,\n",
    "        rxfnum=2,\n",
    "        dtype=torch.float,\n",
    "        device=torch.device(\"cuda:0\" if torch.cuda.is_available() else \"cpu\"),\n",
    "    ):\n",
    "        super().__init__()\n",
    "        # If no angle or element list is provided, delay-and-sum all\n",
    "        if ang_list is None:\n",
    "            ang_list = range(P.angles.shape[0])\n",
    "        elif not hasattr(ang_list, \"__getitem__\"):\n",
    "            ang_list = [ang_list]\n",
    "        if ele_list is None:\n",
    "            ele_list = range(P.ele_pos.shape[0])\n",
    "        elif not hasattr(ele_list, \"__getitem__\"):\n",
    "            ele_list = [ele_list]\n",
    "\n",
    "        # Convert plane wave data to tensors\n",
    "        self.angles = torch.tensor(P.angles, dtype=dtype, device=device)\n",
    "        self.ele_pos = torch.tensor(P.ele_pos, dtype=dtype, device=device)\n",
    "        self.fc = torch.tensor(P.fc, dtype=dtype, device=device)\n",
    "        self.fs = torch.tensor(P.fs, dtype=dtype, device=device)\n",
    "        self.fdemod = torch.tensor(P.fdemod, dtype=dtype, device=device)\n",
    "        self.c = torch.tensor(P.c, dtype=dtype, device=device)\n",
    "        self.time_zero = torch.tensor(P.time_zero, dtype=dtype, device=device)\n",
    "\n",
    "        # Convert grid to tensor\n",
    "        self.grid = torch.tensor(grid, dtype=dtype, device=device).reshape(-1, 3)\n",
    "        self.out_shape = grid.shape[:-1]\n",
    "\n",
    "        # Store other information as well\n",
    "        self.ang_list = torch.tensor(ang_list, dtype=torch.long, device=device)\n",
    "        self.ele_list = torch.tensor(ele_list, dtype=torch.long, device=device)\n",
    "        self.dtype = dtype\n",
    "        self.device = device\n",
    "\n",
    "    def forward(self, x, accumulate=False):\n",
    "        dtype, device = self.dtype, self.device\n",
    "\n",
    "        # Load data onto device as a torch tensor\n",
    "        x = (P.idata, P.qdata)\n",
    "        idata, qdata = x\n",
    "        idata = torch.tensor(idata, dtype=dtype, device=device)\n",
    "        qdata = torch.tensor(qdata, dtype=dtype, device=device)\n",
    "\n",
    "        # Compute delays in meters\n",
    "        nangles = len(self.ang_list)\n",
    "        nelems = len(self.ele_list)\n",
    "        npixels = self.grid.shape[0]\n",
    "        xlims = (self.ele_pos[0, 0], self.ele_pos[-1, 0])  # Aperture width\n",
    "        txdel = torch.zeros((nangles, npixels), dtype=dtype, device=device)\n",
    "        rxdel = torch.zeros((nelems, npixels), dtype=dtype, device=device)\n",
    "        txapo = torch.ones((nangles, npixels), dtype=dtype, device=device)\n",
    "        rxapo = torch.ones((nelems, npixels), dtype=dtype, device=device)\n",
    "        for i, tx in enumerate(self.ang_list):\n",
    "            txdel[i] = delay_plane(self.grid, self.angles[[tx]])\n",
    "            # txdel[i] += self.time_zero[tx] * self.c   # ORIGINAL\n",
    "            txdel[i] -= self.time_zero[tx] * self.c     # IT HAS TO BE \"-\"\n",
    "            # txapo[i] = apod_plane(self.grid, self.angles[tx], xlims)\n",
    "        for j, rx in enumerate(self.ele_list):\n",
    "            rxdel[j] = delay_focus(self.grid, self.ele_pos[[rx]])\n",
    "            # rxapo[i] = apod_focus(self.grid, self.ele_pos[rx])\n",
    "\n",
    "        # Convert to samples\n",
    "        txdel *= self.fs / self.c\n",
    "        rxdel *= self.fs / self.c\n",
    "\n",
    "        # Initialize the output array\n",
    "        idas = torch.zeros(npixels, dtype=self.dtype, device=self.device)\n",
    "        qdas = torch.zeros(npixels, dtype=self.dtype, device=self.device)\n",
    "        iq_cum = None\n",
    "        if accumulate:\n",
    "            iq_cum = torch.zeros(nangles, npixels, nelems, 2, dtype=dtype, device='cpu')\n",
    "\n",
    "        for idx1, (t, td, ta) in enumerate(zip(self.ang_list, txdel, txapo)):\n",
    "            for idx2, (r, rd, ra) in enumerate(zip(self.ele_list, rxdel, rxapo)):\n",
    "\n",
    "                i_iq = idata[t, r].view(1, 1, 1, -1)\n",
    "                q_iq = qdata[t, r].view(1, 1, 1, -1)\n",
    "                # Convert delays to be used with grid_sample\n",
    "                delays = td + rd\n",
    "                dgs = (delays.view(1, 1, -1, 1) * 2 + 1) / idata.shape[-1] - 1\n",
    "                dgs = torch.cat((dgs, 0 * dgs), axis=-1)\n",
    "                # Interpolate using grid_sample and vectorize using view(-1)\n",
    "                # ifoc, qfoc = grid_sample(iq, dgs, align_corners=False).view(2, -1)\n",
    "                ifoc = grid_sample(i_iq, dgs, align_corners=False).view(-1)\n",
    "                qfoc = grid_sample(q_iq, dgs, align_corners=False).view(-1)\n",
    "                # torch.Size([144130])\n",
    "                # Apply phase-rotation if focusing demodulated data\n",
    "                if self.fdemod != 0:\n",
    "                    tshift = delays.view(-1) / self.fs - self.grid[:, 2] * 2 / self.c\n",
    "                    theta = 2 * PI * self.fdemod * tshift\n",
    "                    ifoc, qfoc = complex_rotate(ifoc, qfoc, theta)\n",
    "                # Apply apodization, reshape, and add to running sum\n",
    "                # apods = ta * ra\n",
    "                # idas += ifoc * apods\n",
    "                # qdas += qfoc * apods\n",
    "                idas += ifoc\n",
    "                qdas += qfoc\n",
    "                # torch.Size([355*406])\n",
    "                if accumulate:\n",
    "                    # 1, npixels, nelems, 2\n",
    "                    iq_cum[idx1, :, idx2, 0] = ifoc.cpu()\n",
    "                    iq_cum[idx1, :, idx2, 1] = qfoc.cpu()\n",
    "\n",
    "        # Finally, restore the original pixel grid shape and convert to numpy array\n",
    "        idas = idas.view(self.out_shape)\n",
    "        qdas = qdas.view(self.out_shape)\n",
    "\n",
    "        env = torch.sqrt(idas**2 + qdas**2)\n",
    "        bimg = 20 * torch.log10(env + torch.tensor(1.0*1e-25))\n",
    "        bimg = bimg - torch.max(bimg)\n",
    "        return bimg, env, idas, qdas, iq_cum"
   ]
  },
  {
   "cell_type": "code",
   "execution_count": 13,
   "id": "607e871e5c8fa9af",
   "metadata": {
    "ExecuteTime": {
     "end_time": "2024-01-08T21:16:37.344697200Z",
     "start_time": "2024-01-08T21:16:37.318555400Z"
    },
    "collapsed": false
   },
   "outputs": [],
   "source": [
    "def make_bimg_das1(P, grid, device):\n",
    "    P.idata = P.idata / np.amax(P.idata)\n",
    "    P.qdata = P.qdata / np.amax(P.qdata)\n",
    "\n",
    "    # norm = np.max(np.sqrt(P.idata ** 2 + P.qdata ** 2))\n",
    "    # P.idata = P.idata/norm\n",
    "    # P.qdata = P.qdata/norm\n",
    "\n",
    "    id_angle = len(P.angles) // 2\n",
    "    dasNet = DAS_PW(P, grid, ang_list=id_angle, device=device)\n",
    "    bimg, env, _, _, _ = dasNet((P.idata, P.qdata), accumulate=False)\n",
    "    bimg = bimg.detach().cpu().numpy()\n",
    "    env = env.detach().cpu().numpy()\n",
    "    # env = np.abs(idas+1j*qdas)\n",
    "    # env_normalized = 10 ** (bimg / 20)  # Normalize by max value\n",
    "    return bimg, env"
   ]
  },
  {
   "cell_type": "code",
   "execution_count": 14,
   "id": "d51c57fb186d2d39",
   "metadata": {
    "ExecuteTime": {
     "end_time": "2024-01-08T21:16:37.962478400Z",
     "start_time": "2024-01-08T21:16:37.327683500Z"
    },
    "collapsed": false
   },
   "outputs": [],
   "source": [
    "import copy\n",
    "bmode_DAS, _ = make_bimg_das1(copy.deepcopy(P), grid, device='cpu')\n"
   ]
  },
  {
   "cell_type": "code",
   "execution_count": 15,
   "id": "6b15a25f13e220f5",
   "metadata": {
    "ExecuteTime": {
     "end_time": "2024-01-08T21:16:37.977708Z",
     "start_time": "2024-01-08T21:16:37.962478400Z"
    },
    "collapsed": false
   },
   "outputs": [
    {
     "data": {
      "text/plain": [
       "array([[ -7.2623596,  -9.020294 , -12.023804 , ...,  -9.020294 ,\n",
       "         -5.0469055,  -6.014801 ],\n",
       "       [ -5.0469055, -12.023804 , -12.023804 , ..., -12.023804 ,\n",
       "         -5.0469055,  -5.0469055],\n",
       "       [ -7.2623596, -12.023804 , -12.023804 , ...,  -9.020294 ,\n",
       "         -5.0469055,  -4.256012 ],\n",
       "       ...,\n",
       "       [-63.5123   , -63.5123   , -63.5123   , ..., -63.5123   ,\n",
       "        -63.5123   , -63.5123   ],\n",
       "       [-63.5123   , -63.5123   , -63.5123   , ..., -63.5123   ,\n",
       "        -63.5123   , -63.5123   ],\n",
       "       [-63.5123   , -63.5123   , -63.5123   , ..., -63.5123   ,\n",
       "        -63.5123   , -63.5123   ]], dtype=float32)"
      ]
     },
     "execution_count": 15,
     "metadata": {},
     "output_type": "execute_result"
    }
   ],
   "source": [
    "bmode_DAS"
   ]
  },
  {
   "cell_type": "code",
   "execution_count": 16,
   "id": "cf89c15cf975e4ee",
   "metadata": {
    "ExecuteTime": {
     "end_time": "2024-01-08T21:16:38.011711500Z",
     "start_time": "2024-01-08T21:16:37.978711500Z"
    },
    "collapsed": false
   },
   "outputs": [],
   "source": [
    "import matplotlib\n",
    "matplotlib.use('TkAgg')\n",
    "import matplotlib.pyplot as plt"
   ]
  },
  {
   "cell_type": "code",
   "execution_count": 16,
   "id": "8ba0ecd10a47b691",
   "metadata": {
    "ExecuteTime": {
     "end_time": "2024-01-08T21:16:38.022212200Z",
     "start_time": "2024-01-08T21:16:38.007708100Z"
    },
    "collapsed": false
   },
   "outputs": [],
   "source": []
  },
  {
   "cell_type": "code",
   "execution_count": 17,
   "id": "dd208f5a53b984cd",
   "metadata": {
    "ExecuteTime": {
     "end_time": "2024-01-08T21:16:38.045675300Z",
     "start_time": "2024-01-08T21:16:38.023216800Z"
    },
    "collapsed": false
   },
   "outputs": [],
   "source": [
    "# import numpy as np\n",
    "# import matplotlib.pyplot as plt\n"
   ]
  },
  {
   "cell_type": "code",
   "execution_count": null,
   "id": "f5b2b2aef2906a4c",
   "metadata": {
    "ExecuteTime": {
     "start_time": "2024-01-08T21:16:38.040338Z"
    },
    "collapsed": false,
    "is_executing": true
   },
   "outputs": [
    {
     "data": {
      "text/plain": [
       "Text(0.5, 1.0, 'DAS (fc: 5.5 MHz)')"
      ]
     },
     "execution_count": 18,
     "metadata": {},
     "output_type": "execute_result"
    }
   ],
   "source": [
    "%matplotlib inline\n",
    "\n",
    "extent = [laterals[0] * 1e3, laterals[-1] * 1e3, depths[-1] * 1e3, depths[0] * 1e3]\n",
    "fig, ax = plt.subplots(nrows=1, ncols=1, sharex=True, sharey=True)\n",
    "ax.imshow(bmode_DAS, cmap=\"gray\", vmin=-60, vmax=0, extent=extent, origin=\"upper\")\n",
    "ax.set_xlabel('Lateral [mm]')\n",
    "ax.set_ylabel('Axial [mm]')\n",
    "ax.set_title('DAS (fc: %.1f MHz)' % (P.fc/1e6))"
   ]
  },
  {
   "cell_type": "code",
   "execution_count": null,
   "id": "b38c5906f742fb25",
   "metadata": {
    "collapsed": false,
    "is_executing": true
   },
   "outputs": [],
   "source": []
  }
 ],
 "metadata": {
  "kernelspec": {
   "display_name": "Python 3",
   "language": "python",
   "name": "python3"
  },
  "language_info": {
   "codemirror_mode": {
    "name": "ipython",
    "version": 2
   },
   "file_extension": ".py",
   "mimetype": "text/x-python",
   "name": "python",
   "nbconvert_exporter": "python",
   "pygments_lexer": "ipython2",
   "version": "2.7.6"
  }
 },
 "nbformat": 4,
 "nbformat_minor": 5
}
