{
 "cells": [
  {
   "cell_type": "raw",
   "source": [],
   "metadata": {
    "collapsed": false
   }
  },
  {
   "cell_type": "code",
   "execution_count": 7,
   "metadata": {
    "collapsed": true,
    "ExecuteTime": {
     "end_time": "2024-01-10T02:55:06.757795500Z",
     "start_time": "2024-01-10T02:55:06.754611600Z"
    }
   },
   "outputs": [],
   "source": [
    "import os\n",
    "from pathlib import Path\n",
    "import pandas as pd\n",
    "from data_utils import *\n",
    "import shutil\n"
   ]
  },
  {
   "cell_type": "markdown",
   "source": [
    "# Training"
   ],
   "metadata": {
    "collapsed": false
   }
  },
  {
   "cell_type": "code",
   "execution_count": 1,
   "outputs": [
    {
     "name": "stdout",
     "output_type": "stream",
     "text": [
      "simu12500\n"
     ]
    },
    {
     "data": {
      "text/plain": "12500"
     },
     "execution_count": 1,
     "metadata": {},
     "output_type": "execute_result"
    }
   ],
   "source": [
    "training_folder = Path(r'C:\\Users\\u_imagenes\\Documents\\smerino\\training')\n",
    "training_file_list = sorted(os.listdir(training_folder/'input'))\n",
    "print(training_file_list[-1][:-4])\n",
    "int(training_file_list[-1][-9:-4])\n"
   ],
   "metadata": {
    "collapsed": false,
    "ExecuteTime": {
     "end_time": "2024-01-09T23:32:46.118416200Z",
     "start_time": "2024-01-09T23:32:44.256135300Z"
    }
   }
  },
  {
   "cell_type": "code",
   "execution_count": 5,
   "outputs": [
    {
     "name": "stdout",
     "output_type": "stream",
     "text": [
      "12500\r"
     ]
    }
   ],
   "source": [
    "h5_dir = r'E:\\simulatedCystDataset\\raw_0.0Att'\n",
    "new_training_folder = Path(r'C:\\Users\\u_imagenes\\Documents\\smerino\\new_training')\n",
    "for file in training_file_list:\n",
    "    P = LoadDataParams(h5_dir=h5_dir, simu_name=file[:-4])\n",
    "    print(file[-9:-4], end='\\r')\n",
    "    if P.radius>=0.006:\n",
    "        shutil.copy(training_folder/'input'/file, new_training_folder/'input'/file)\n",
    "        shutil.copy(training_folder/'target_enh'/file, new_training_folder/'target_enh'/file)"
   ],
   "metadata": {
    "collapsed": false,
    "ExecuteTime": {
     "end_time": "2024-01-09T23:39:41.610452500Z",
     "start_time": "2024-01-09T23:38:26.094775700Z"
    }
   }
  },
  {
   "cell_type": "markdown",
   "source": [
    "# Testing"
   ],
   "metadata": {
    "collapsed": false
   }
  },
  {
   "cell_type": "code",
   "execution_count": 31,
   "outputs": [],
   "source": [
    "testing_folder = Path(r'C:\\Users\\u_imagenes\\Documents\\smerino\\testing')\n",
    "testing_file_list = sorted(os.listdir(testing_folder/'input'))\n",
    "new_testing_folder = Path(r'C:\\Users\\u_imagenes\\Documents\\smerino\\new_testing')"
   ],
   "metadata": {
    "collapsed": false,
    "ExecuteTime": {
     "end_time": "2024-01-10T03:04:11.611291800Z",
     "start_time": "2024-01-10T03:04:11.603275Z"
    }
   }
  },
  {
   "cell_type": "code",
   "execution_count": 32,
   "outputs": [
    {
     "data": {
      "text/plain": "r        0.008\ncx      -0.006\ncz       0.055\nc     1420.000\nName: 14, dtype: float64"
     },
     "execution_count": 32,
     "metadata": {},
     "output_type": "execute_result"
    }
   ],
   "source": [
    "df = pd.read_csv(\"testing_params.csv\")\n",
    "file = testing_file_list[0]\n",
    "id_file = int(file[-9:-4])\n",
    "df.set_index(\"id\", inplace=True)\n",
    "df.loc[id_file]"
   ],
   "metadata": {
    "collapsed": false,
    "ExecuteTime": {
     "end_time": "2024-01-10T03:04:12.718784600Z",
     "start_time": "2024-01-10T03:04:12.714071800Z"
    }
   }
  },
  {
   "cell_type": "code",
   "execution_count": 34,
   "outputs": [
    {
     "name": "stdout",
     "output_type": "stream",
     "text": [
      "12496\r"
     ]
    }
   ],
   "source": [
    "for file in testing_file_list:\n",
    "    id_file = int(file[-9:-4])\n",
    "    print(id_file, end='\\r')\n",
    "    if df.loc[id_file]['r'] >= 0.006:\n",
    "        shutil.copy(testing_folder / 'input' / file, new_testing_folder / 'input' / file)\n",
    "        shutil.copy(testing_folder / 'target_enh' / file, new_testing_folder / 'target_enh' / file)\n"
   ],
   "metadata": {
    "collapsed": false,
    "ExecuteTime": {
     "end_time": "2024-01-10T03:04:29.910501900Z",
     "start_time": "2024-01-10T03:04:25.871551300Z"
    }
   }
  }
 ],
 "metadata": {
  "kernelspec": {
   "display_name": "Python 3",
   "language": "python",
   "name": "python3"
  },
  "language_info": {
   "codemirror_mode": {
    "name": "ipython",
    "version": 2
   },
   "file_extension": ".py",
   "mimetype": "text/x-python",
   "name": "python",
   "nbconvert_exporter": "python",
   "pygments_lexer": "ipython2",
   "version": "2.7.6"
  }
 },
 "nbformat": 4,
 "nbformat_minor": 0
}
